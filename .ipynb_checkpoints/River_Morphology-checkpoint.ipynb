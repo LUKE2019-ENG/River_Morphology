{
 "cells": [
  {
   "cell_type": "code",
   "execution_count": 4,
   "id": "ea7c8c7a-0a32-430c-96ef-bee50dec1dd1",
   "metadata": {
    "tags": []
   },
   "outputs": [
    {
     "data": {
      "text/html": [
       "<p>To authorize access needed by Earth Engine, open the following\n",
       "        URL in a web browser and follow the instructions:</p>\n",
       "        <p><a href=https://code.earthengine.google.com/client-auth?scopes=https%3A//www.googleapis.com/auth/earthengine%20https%3A//www.googleapis.com/auth/devstorage.full_control&request_id=-_G2jrbHrK47iZ0bxKr9n1Aqp2GP_aP43_WARfjqKHY&tc=X5NqM2RhN49sEMKOMT_ElwzD9aC3new5Mv3YuRxXJaI&cc=EZnVemhCaCULGpOC7KLfOIzG_YyElSssWWLXlBpK-4o>https://code.earthengine.google.com/client-auth?scopes=https%3A//www.googleapis.com/auth/earthengine%20https%3A//www.googleapis.com/auth/devstorage.full_control&request_id=-_G2jrbHrK47iZ0bxKr9n1Aqp2GP_aP43_WARfjqKHY&tc=X5NqM2RhN49sEMKOMT_ElwzD9aC3new5Mv3YuRxXJaI&cc=EZnVemhCaCULGpOC7KLfOIzG_YyElSssWWLXlBpK-4o</a></p>\n",
       "        <p>The authorization workflow will generate a code, which you should paste in the box below.</p>\n",
       "        "
      ],
      "text/plain": [
       "<IPython.core.display.HTML object>"
      ]
     },
     "metadata": {},
     "output_type": "display_data"
    },
    {
     "name": "stdin",
     "output_type": "stream",
     "text": [
      "Enter verification code:  4/1AbUR2VNDhuoR6kUBw9NRr3SwczH2y2szgweAhlDEkKB7vC4oEcxpUxw2Rx0\n"
     ]
    },
    {
     "name": "stdout",
     "output_type": "stream",
     "text": [
      "\n",
      "Successfully saved authorization token.\n"
     ]
    }
   ],
   "source": [
    "import ee\n",
    "\n",
    "ee.Authenticate()"
   ]
  },
  {
   "cell_type": "code",
   "execution_count": 5,
   "id": "61e1940b-4406-470c-b46a-89d85efd10db",
   "metadata": {
    "tags": []
   },
   "outputs": [],
   "source": [
    "ee.Initialize()"
   ]
  },
  {
   "cell_type": "code",
   "execution_count": 11,
   "id": "cfe96444-3e37-4191-b205-321bdee3fe2c",
   "metadata": {
    "tags": []
   },
   "outputs": [],
   "source": [
    "import geemap"
   ]
  },
  {
   "cell_type": "code",
   "execution_count": 16,
   "id": "0d283abb-d8ca-41da-92d5-df26bf8454f5",
   "metadata": {
    "tags": []
   },
   "outputs": [],
   "source": [
    "geemap.ee_initialize()"
   ]
  },
  {
   "cell_type": "code",
   "execution_count": 20,
   "id": "4bf93ca7-3b13-4c30-bf75-db4a4e6822ed",
   "metadata": {
    "tags": []
   },
   "outputs": [],
   "source": [
    "jrcYearly = ee.ImageCollection('JRC/GSW1_3/YearlyHistory')"
   ]
  },
  {
   "cell_type": "code",
   "execution_count": 23,
   "id": "a945592b-9e64-4348-96df-126476917eb6",
   "metadata": {
    "tags": []
   },
   "outputs": [],
   "source": [
    "hydrosheds = ee.FeatureCollection('WWF/HydroSHEDS/v1/FreeFlowingRivers')"
   ]
  },
  {
   "cell_type": "code",
   "execution_count": 30,
   "id": "b1744728-0706-4981-a04d-b0df3e80b0bc",
   "metadata": {
    "tags": []
   },
   "outputs": [
    {
     "ename": "AttributeError",
     "evalue": "'Element' object has no attribute 'projection'",
     "output_type": "error",
     "traceback": [
      "\u001b[0;31m---------------------------------------------------------------------------\u001b[0m",
      "\u001b[0;31mAttributeError\u001b[0m                            Traceback (most recent call last)",
      "Cell \u001b[0;32mIn[30], line 2\u001b[0m\n\u001b[1;32m      1\u001b[0m feature \u001b[38;5;241m=\u001b[39m hydrosheds\u001b[38;5;241m.\u001b[39mfirst()\n\u001b[0;32m----> 2\u001b[0m crs \u001b[38;5;241m=\u001b[39m \u001b[43mfeature\u001b[49m\u001b[38;5;241;43m.\u001b[39;49m\u001b[43mprojection\u001b[49m()\n\u001b[1;32m      3\u001b[0m \u001b[38;5;28mprint\u001b[39m(\u001b[38;5;124m'\u001b[39m\u001b[38;5;124mCRS:\u001b[39m\u001b[38;5;124m'\u001b[39m, crs)\n",
      "\u001b[0;31mAttributeError\u001b[0m: 'Element' object has no attribute 'projection'"
     ]
    }
   ],
   "source": [
    "feature = hydrosheds.first()\n",
    "crs = feature.projection()\n",
    "print('CRS:', crs)\n"
   ]
  },
  {
   "cell_type": "code",
   "execution_count": 21,
   "id": "df27e2a3-21f8-4b3c-b1e5-6c7f88872ad1",
   "metadata": {
    "tags": []
   },
   "outputs": [
    {
     "ename": "NameError",
     "evalue": "name 'aoi' is not defined",
     "output_type": "error",
     "traceback": [
      "\u001b[0;31m---------------------------------------------------------------------------\u001b[0m",
      "\u001b[0;31mNameError\u001b[0m                                 Traceback (most recent call last)",
      "Cell \u001b[0;32mIn[21], line 1\u001b[0m\n\u001b[0;32m----> 1\u001b[0m watermask \u001b[38;5;241m=\u001b[39m jrcYearly\u001b[38;5;241m.\u001b[39mfilter(ee\u001b[38;5;241m.\u001b[39mFilter\u001b[38;5;241m.\u001b[39meq(\u001b[38;5;124m'\u001b[39m\u001b[38;5;124myear\u001b[39m\u001b[38;5;124m'\u001b[39m, \u001b[38;5;241m2000\u001b[39m))\u001b[38;5;241m.\u001b[39mfirst()\u001b[38;5;241m.\u001b[39mgte(\u001b[38;5;241m2\u001b[39m)\u001b[38;5;241m.\u001b[39munmask(\u001b[38;5;241m0\u001b[39m)\u001b[38;5;241m.\u001b[39mclip(\u001b[43maoi\u001b[49m)\n",
      "\u001b[0;31mNameError\u001b[0m: name 'aoi' is not defined"
     ]
    }
   ],
   "source": [
    "watermask = jrcYearly.filter(ee.Filter.eq('year', 2000)).first().gte(2).unmask(0).clip(aoi)"
   ]
  },
  {
   "cell_type": "code",
   "execution_count": null,
   "id": "7afa60c8-032c-43f8-bd53-30012a8685b5",
   "metadata": {},
   "outputs": [],
   "source": []
  }
 ],
 "metadata": {
  "kernelspec": {
   "display_name": "Python 3 (ipykernel)",
   "language": "python",
   "name": "python3"
  },
  "language_info": {
   "codemirror_mode": {
    "name": "ipython",
    "version": 3
   },
   "file_extension": ".py",
   "mimetype": "text/x-python",
   "name": "python",
   "nbconvert_exporter": "python",
   "pygments_lexer": "ipython3",
   "version": "3.9.16"
  }
 },
 "nbformat": 4,
 "nbformat_minor": 5
}
